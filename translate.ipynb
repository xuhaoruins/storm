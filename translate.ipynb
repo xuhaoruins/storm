{
 "cells": [
  {
   "cell_type": "code",
   "execution_count": 1,
   "metadata": {},
   "outputs": [],
   "source": [
    "#初始化\n",
    "import os\n",
    "import toml\n",
    "from openai import AzureOpenAI\n",
    "\n",
    "# 读取 secrets.toml 文件\n",
    "secrets = toml.load('secrets.toml')\n",
    "\n",
    "client = AzureOpenAI(\n",
    "  api_key = secrets.get('OPENAI_API_KEY'),\n",
    "  api_version = secrets.get('AZURE_API_VERSION'),\n",
    "  azure_endpoint = secrets.get('AZURE_API_BASE')\n",
    ")\n",
    "\n",
    "# 设置openai API默认参数, name = gpt-35-turbo-1106\n",
    "def get_completion(prompt): \n",
    "    messages = [\n",
    "        {\"role\": \"system\", \"content\": \"\"\"Translate this markdown content to Simplified Chinese. Follow the below rules:\n",
    "         1. Must keep original markdown format and position. \n",
    "         2. Do not change any markdown or html tags.\n",
    "         3. The expected documentation or material shall keep the integrality of contents.\n",
    "         4. The translated content shall be grammatically correct.\n",
    "         5. The translated content shall be fluent and easy to understand.\"\"\"},\n",
    "        {\"role\": \"user\", \"content\": prompt}\n",
    "        ]\n",
    "    response = client.chat.completions.create(\n",
    "      model=\"gpt-4o-mini\",\n",
    "      messages=messages\n",
    "      )\n",
    "    return response.choices[0].message.content\n"
   ]
  },
  {
   "cell_type": "code",
   "execution_count": 11,
   "metadata": {},
   "outputs": [
    {
     "name": "stdout",
     "output_type": "stream",
     "text": [
      "output\\China_Domestic_Substitution_and_Technological_indigenization_campaign_(xinchuang_initiative)\n",
      "China_Domestic_Substitution_and_Technological_indigenization_campaign_(xinchuang_initiative)\n"
     ]
    }
   ],
   "source": [
    "\n",
    "filepath=\"output\\China_Domestic_Substitution_and_Technological_indigenization_campaign_(xinchuang_initiative)\\storm_gen_article_polished.txt\"\n",
    "\n",
    "# 获取文件夹路径\n",
    "folder_path = os.path.dirname(filepath)\n",
    "\n",
    "# 截取文件上一级目录名作为file_name\n",
    "file_name = os.path.basename(folder_path)\n",
    "\n",
    "print(folder_path)\n",
    "print(file_name)"
   ]
  },
  {
   "cell_type": "code",
   "execution_count": 3,
   "metadata": {},
   "outputs": [
    {
     "name": "stderr",
     "output_type": "stream",
     "text": [
      "<>:3: DeprecationWarning: invalid escape sequence '\\F'\n",
      "<>:3: DeprecationWarning: invalid escape sequence '\\F'\n",
      "C:\\Users\\haxu\\AppData\\Local\\Temp\\ipykernel_11308\\3202803042.py:3: DeprecationWarning: invalid escape sequence '\\F'\n",
      "  filepath=\"output\\Forecast_China_equities_market_trend_in_2025\\storm_gen_article_polished.txt\"\n"
     ]
    },
    {
     "name": "stdout",
     "output_type": "stream",
     "text": [
      "Completion result saved to output\\Forecast_China_equities_market_trend_in_2025\\translated_result.md\n"
     ]
    }
   ],
   "source": [
    "from markitdown import MarkItDown\n",
    "\n",
    "\n",
    "md = MarkItDown()\n",
    "result = md.convert(filepath)\n",
    "\n",
    "\n",
    "# 定义要保存的文件路径, 将结果写入 Markdown 文件\n",
    "output_filepath1 = os.path.join(os.path.dirname(filepath), 'non-translated_result.md')\n",
    "with open(output_filepath1, 'w', encoding='utf-8') as file:\n",
    "    file.write(result.text_content)\n",
    "\n",
    "# 获取 completion 结果\n",
    "completion_result = get_completion(result.text_content)\n",
    "\n",
    "# 定义要保存的文件路径\n",
    "output_filepath2 = os.path.join(os.path.dirname(filepath), 'translated_result.md')\n",
    "\n",
    "# 将结果写入 Markdown 文件\n",
    "with open(output_filepath2, 'w', encoding='utf-8') as file:\n",
    "    file.write(completion_result)\n",
    "\n",
    "print(f\"Completion result saved to {output_filepath2}\")"
   ]
  },
  {
   "cell_type": "code",
   "execution_count": 13,
   "metadata": {},
   "outputs": [
    {
     "name": "stdout",
     "output_type": "stream",
     "text": [
      "References saved to output\\China_Domestic_Substitution_and_Technological_indigenization_campaign_(xinchuang_initiative)\\China_Domestic_Substitution_and_Technological_indigenization_campaign_(xinchuang_initiative)_translated_result_with_references.md\n"
     ]
    }
   ],
   "source": [
    "#combine the translated result with references for EN and CN\n",
    "\n",
    "import json\n",
    "import os\n",
    "\n",
    "# 文件路径\n",
    "# folder_path = \"How_do_you_measure_the_software_development_performance_gains_from_GitHub_Copilot\"\n",
    "\n",
    "# 读取 JSON 文件\n",
    "with open(os.path.join(folder_path, 'url_to_info.json'), 'r', encoding='utf-8') as file:\n",
    "    data = json.load(file)\n",
    "\n",
    "# 提取标题，适应不同结构\n",
    "# title = data.get('title') or data.get('info', {}).get('title') or 'default_title'\n",
    "title = file_name\n",
    "\n",
    "# 提取引用信息，使用可点击Markdown链接\n",
    "references = []\n",
    "for i, (url, info) in enumerate(data.get('url_to_info', {}).items(), start=1):\n",
    "    ref_title = info.get('title', 'Untitled')\n",
    "    if ref_title == \"PDF\" and 'meta' in info and 'query' in info['meta']:\n",
    "        ref_title = info['meta']['query']\n",
    "    references.append(f\"- [{i}] [{ref_title}]({url})\")\n",
    "\n",
    "# 读取现有的 Markdown 文件内容\n",
    "with open(os.path.join(folder_path, 'non-translated_result.md'), 'r', encoding='utf-8') as file:\n",
    "    md_content = file.read()\n",
    "\n",
    "# 将引用信息附加到 Markdown 文件末尾\n",
    "output_filepath1 = os.path.join(folder_path, f\"{title}_non-translated_result_with_references.md\")\n",
    "\n",
    "with open(output_filepath1, 'w', encoding='utf-8') as file:\n",
    "    file.write(md_content)\n",
    "    file.write(\"\\n\\n# references\\n\\n\")\n",
    "    for reference in references:\n",
    "        file.write(f\"{reference}\\n\")\n",
    "\n",
    "# 读取现有的 Markdown 文件内容\n",
    "with open(os.path.join(folder_path, 'translated_result.md'), 'r', encoding='utf-8') as file:\n",
    "    md_content = file.read()\n",
    "\n",
    "# 将引用信息附加到 Markdown 文件末尾\n",
    "output_filepath = os.path.join(folder_path, f\"{title}_translated_result_with_references.md\")\n",
    "\n",
    "with open(output_filepath, 'w', encoding='utf-8') as file:\n",
    "    file.write(md_content)\n",
    "    file.write(\"\\n\\n# 引用\\n\\n\")\n",
    "    for reference in references:\n",
    "        file.write(f\"{reference}\\n\")\n",
    "\n",
    "print(f\"References saved to {output_filepath}\")"
   ]
  }
 ],
 "metadata": {
  "kernelspec": {
   "display_name": "storm",
   "language": "python",
   "name": "python3"
  },
  "language_info": {
   "codemirror_mode": {
    "name": "ipython",
    "version": 3
   },
   "file_extension": ".py",
   "mimetype": "text/x-python",
   "name": "python",
   "nbconvert_exporter": "python",
   "pygments_lexer": "ipython3",
   "version": "3.11.11"
  }
 },
 "nbformat": 4,
 "nbformat_minor": 2
}
